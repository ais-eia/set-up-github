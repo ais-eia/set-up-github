{
 "cells": [
  {
   "cell_type": "code",
   "execution_count": 1,
   "id": "cc1b2ceb-ee57-4508-b9b9-5624bf1b15e6",
   "metadata": {},
   "outputs": [],
   "source": [
    "import urllib.request\n",
    "\n",
    "url = 'https://www.gutenberg.org/cache/epub/10/pg10.txt'\n",
    "response = urllib.request.urlopen(url)\n",
    "pg10 = response.read().decode('utf-8')"
   ]
  },
  {
   "cell_type": "code",
   "execution_count": 2,
   "id": "a9f8d40a-348b-4161-a45a-331460a9605b",
   "metadata": {},
   "outputs": [
    {
     "name": "stdout",
     "output_type": "stream",
     "text": [
      "Number of lines: 99968\n"
     ]
    }
   ],
   "source": [
    "num_lines = len(pg10.splitlines())\n",
    "print(f\"Number of lines: {num_lines}\")"
   ]
  },
  {
   "cell_type": "code",
   "execution_count": 3,
   "id": "42388664-eca3-4ea7-9047-015f3c8d3393",
   "metadata": {},
   "outputs": [
    {
     "name": "stdout",
     "output_type": "stream",
     "text": [
      "Number of words: 795227\n"
     ]
    }
   ],
   "source": [
    "import re\n",
    "\n",
    "words = re.findall(r\"[a-zA-Z]+\", pg10)\n",
    "num_words = len(words)\n",
    "print(f\"Number of words: {num_words}\")"
   ]
  },
  {
   "cell_type": "code",
   "execution_count": 4,
   "id": "699f2f24-367e-434b-bac0-3a1513e24315",
   "metadata": {},
   "outputs": [
    {
     "name": "stdout",
     "output_type": "stream",
     "text": [
      "Occurrences of 'apostle': 47\n"
     ]
    }
   ],
   "source": [
    "apostle_count = sum(1 for word in words if word.lower() == \"apostle\")\n",
    "print(f\"Occurrences of 'apostle': {apostle_count}\")"
   ]
  },
  {
   "cell_type": "code",
   "execution_count": 5,
   "id": "76432019-8eed-4600-be42-b2337f2d28e3",
   "metadata": {},
   "outputs": [
    {
     "name": "stdout",
     "output_type": "stream",
     "text": [
      "Most common word: 'the' (64309 times)\n"
     ]
    }
   ],
   "source": [
    "from collections import Counter\n",
    "\n",
    "word_counts = Counter(word.lower() for word in words)\n",
    "most_common_word, frequency = word_counts.most_common(1)[0]\n",
    "print(f\"Most common word: '{most_common_word}' ({frequency} times)\")"
   ]
  },
  {
   "cell_type": "code",
   "execution_count": null,
   "id": "15347865-720b-4d7c-8c03-d8a3bd3ad987",
   "metadata": {},
   "outputs": [],
   "source": []
  }
 ],
 "metadata": {
  "kernelspec": {
   "display_name": "Python [conda env:base] *",
   "language": "python",
   "name": "conda-base-py"
  },
  "language_info": {
   "codemirror_mode": {
    "name": "ipython",
    "version": 3
   },
   "file_extension": ".py",
   "mimetype": "text/x-python",
   "name": "python",
   "nbconvert_exporter": "python",
   "pygments_lexer": "ipython3",
   "version": "3.12.7"
  }
 },
 "nbformat": 4,
 "nbformat_minor": 5
}
